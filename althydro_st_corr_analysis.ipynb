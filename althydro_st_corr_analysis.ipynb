{
  "nbformat": 4,
  "nbformat_minor": 0,
  "metadata": {
    "colab": {
      "provenance": [],
      "authorship_tag": "ABX9TyOPT4Gc7MXWSpHHTKlsUaSO",
      "include_colab_link": true
    },
    "kernelspec": {
      "name": "python3",
      "display_name": "Python 3"
    },
    "language_info": {
      "name": "python"
    }
  },
  "cells": [
    {
      "cell_type": "markdown",
      "metadata": {
        "id": "view-in-github",
        "colab_type": "text"
      },
      "source": [
        "<a href=\"https://colab.research.google.com/github/MichalHalicki4/LinAR-interpolation/blob/main/althydro_st_corr_analysis.ipynb\" target=\"_parent\"><img src=\"https://colab.research.google.com/assets/colab-badge.svg\" alt=\"Open In Colab\"/></a>"
      ]
    },
    {
      "cell_type": "code",
      "execution_count": null,
      "metadata": {
        "id": "uIomMKVft64D"
      },
      "outputs": [],
      "source": [
        "import pandas as pd\n",
        "import numpy as np\n",
        "from datetime import timedelta\n",
        "import matplotlib.pyplot as plt\n",
        "from statsmodels.tsa.ar_model import AutoReg, ar_select_order\n",
        "from statsmodels.tsa.stattools import adfuller\n",
        "from scipy import stats\n",
        "import scipy\n",
        "import math"
      ]
    },
    {
      "cell_type": "code",
      "source": [
        "home = '/content/'\n",
        "window = 120\n",
        "sig_lvl = .05\n",
        "basins = {\n",
        "1: [1, 2, 3, 4, 5, 6, 7, 8, 9, 10, 11, 12, 13, 14, 15, 16, 17, 18, 19, 20, 21, 23, 24, 25, 26, 27, 28],\n",
        "2: [2, 3, 4, 5, 6, 7, 8, 9, 10, 11, 12, 13, 14, 15, 16, 17, 18, 19, 20, 21, 23, 24, 25, 26, 27, 28],\n",
        "3: [3, 4, 5, 6, 9, 10, 11, 12, 14, 15, 16, 18, 19, 20, 21, 25, 26, 27, 28],\n",
        "4: [4, 5, 6, 9, 10, 11, 12, 14, 15, 16, 18, 19, 20, 21, 25, 26, 27, 28],\n",
        "5: [5, 6, 9, 10, 11, 12, 14, 15, 16, 18, 19, 20, 21, 25, 26, 27, 28],\n",
        "6: [6, 10, 11, 12, 14, 15, 16, 18, 19, 20, 21, 25, 26, 27, 28]\n",
        "}\n",
        "\n",
        "imgw_df = pd.read_csv(home + 'pred_gauge_1_2016-01-01_2022-05-31.csv', sep=';', header=0, index_col=['Unnamed: 0'], parse_dates=True)\n",
        "typical_freq = pd.to_timedelta(np.diff(imgw_df.index)).value_counts().index[0]\n",
        "imgw_df =  imgw_df.resample(typical_freq).fillna(method=None)"
      ],
      "metadata": {
        "id": "PYFDHhgVt-M5"
      },
      "execution_count": null,
      "outputs": []
    },
    {
      "cell_type": "code",
      "source": [
        "def get_gauge_data_cut(df, gauge, t, w):\n",
        "  return df[gauge].loc[t: t + timedelta(seconds=3600 * (w-1))]"
      ],
      "metadata": {
        "id": "ta_5f6plue9h"
      },
      "execution_count": null,
      "outputs": []
    },
    {
      "cell_type": "markdown",
      "source": [
        "**Funkcje LinAR do różnicowania danych**"
      ],
      "metadata": {
        "id": "Ui1Z0_ZF1END"
      }
    },
    {
      "cell_type": "code",
      "source": [
        "def difference(data_to_diff: pd.Series, step: timedelta):\n",
        "    \"\"\"\n",
        "    :param data_to_diff: time series to be differenced\n",
        "    :param step: index step of the data\n",
        "    :return: differenced time series\n",
        "    \"\"\"\n",
        "    diff = data_to_diff[1:].copy()\n",
        "    index_range = data_to_diff.index[1:]\n",
        "    for idx in index_range:\n",
        "        val = data_to_diff.loc[idx] - data_to_diff.loc[idx - step]\n",
        "        diff.at[idx] = val\n",
        "    return diff\n",
        "\n",
        "\n",
        "def f_test(timeseries: pd.Series):\n",
        "    \"\"\"\n",
        "    This function performs the ftset, which aims to assess data stationarity by comparing variances of the first and\n",
        "    second half of the time series.\n",
        "\n",
        "    :param timeseries: time series on which the ftest will be applied\n",
        "    :return: p value of the ftest.\n",
        "    \"\"\"\n",
        "    timeseries = timeseries.to_list()\n",
        "    split = round(len(timeseries) / 2)\n",
        "    x1, x2 = timeseries[0:split], timeseries[split:]\n",
        "    if len(x1) > len(x2):\n",
        "        x1 = timeseries[1:split]\n",
        "    x, y = np.array(x1), np.array(x2)\n",
        "    var1, var2 = sorted([np.var(x1, ddof=1), np.var(x2, ddof=1)])\n",
        "    if var1 == 0 or var2 == 0:\n",
        "      return 0  # returned p_val = 0 means, that the variances are significantly different, since one of them is equal to zero.\n",
        "    f = var2 / var1\n",
        "    nun = x.size - 1\n",
        "    dun = y.size - 1\n",
        "    p_value = 1 - scipy.stats.f.cdf(f, nun, dun)\n",
        "    return p_value\n",
        "\n",
        "\n",
        "def get_stationary_data(timeseries: pd.Series, step: timedelta, sig_adf: float, sig_ft: float, num_of_diffs: int):\n",
        "    \"\"\"\n",
        "    This function aims to obtain stationary data by differencing it.\n",
        "    The stationarity is tested with the use of the Augmented Dickey Fuller (ADF) test and Ftest.\n",
        "    The differencing is performed in a while loop until stationarity is obtained,\n",
        "    or the number of differencings reaches the threshold defined by the num_of_diffs parameter.\n",
        "\n",
        "    :param timeseries: time series, the stationarity of which should be obtained.\n",
        "    :param step: index step of the data\n",
        "    :param sig_adf: the significance level for the ADF test.\n",
        "    :param sig_ft: the significance level for the Ftest.\n",
        "    :param num_of_diffs: Number of differencings allowed in the while loop.\n",
        "    :return: a list of at least two pd.Series: the undifferenced data and the 1st order differenced data.\n",
        "             In the case of multiple differencing, successive time series are added to the list.\n",
        "    \"\"\"\n",
        "    diff, diffs_list = difference(timeseries, step), [timeseries]\n",
        "    diffs_list.append(diff)\n",
        "    p_val_adf = adfuller(diff)[1]\n",
        "    p_val_ftest = f_test(diff)\n",
        "    while p_val_adf > sig_adf or p_val_ftest < sig_ft:\n",
        "        diff = difference(diff, step)\n",
        "        diffs_list.append(diff)\n",
        "        if len(diffs_list) > num_of_diffs+1:\n",
        "            return None\n",
        "        p_val_adf = adfuller(diff)[1]\n",
        "        p_val_ftest = f_test(diff)\n",
        "    return diffs_list"
      ],
      "metadata": {
        "id": "2HApVg4LumLO"
      },
      "execution_count": null,
      "outputs": []
    },
    {
      "cell_type": "markdown",
      "source": [
        "**Funkcje TN do kross-korelacji**"
      ],
      "metadata": {
        "id": "0Ec86DgR1NiJ"
      }
    },
    {
      "cell_type": "code",
      "source": [
        "def normalize_two_ts(firs_ts, second_ts):\n",
        "    first_normalized = (firs_ts - np.mean(firs_ts)) / (np.std(firs_ts) * len(firs_ts))\n",
        "    second_normalized = (second_ts - np.mean(second_ts)) / (np.std(second_ts))\n",
        "    return first_normalized, second_normalized\n",
        "\n",
        "\n",
        "def r_to_z(r):\n",
        "    try:\n",
        "        return math.log((1 + r) / (1 - r)) / 2.0\n",
        "    except:\n",
        "        return 'error'\n",
        "\n",
        "def z_to_r(z):\n",
        "    e = math.exp(2 * z)\n",
        "    return (e - 1) / (e + 1)\n",
        "\n",
        "\n",
        "def r_confidence_interval(r, alpha, n):\n",
        "    z = r_to_z(r)\n",
        "    if z == 'error':\n",
        "        return 'error'\n",
        "    se = 1.0 / math.sqrt(n - 3)\n",
        "    z_crit = stats.norm.ppf(1 - alpha/2)  # 2-tailed z critical value\n",
        "\n",
        "    lo = z - z_crit * se\n",
        "    hi = z + z_crit * se\n",
        "\n",
        "    # Return a sequence\n",
        "    return z_to_r(lo), z_to_r(hi)\n",
        "\n",
        "\n",
        "def check_cross_correlations(a: np.array, b: np.array, alp: float):\n",
        "    # normalizacja wektorow (aby korelacja byla znormaliowana, a nie liczyla sie tylko kowariancja)\n",
        "    a, b = normalize_two_ts(a, b)\n",
        "\n",
        "    # obliczenie przedzialu ufnosci dla korelacji = 0, czyli tak jak w jezyku R dla funkcji ccf\n",
        "    conf_int_r0 = r_confidence_interval(0, alp, len(a))\n",
        "    if conf_int_r0 == 'error':\n",
        "        return [False, True]\n",
        "\n",
        "    # korelacja wzajemna metoda z scipy\n",
        "    cross_corr = scipy.signal.correlate(a, b)\n",
        "\n",
        "    # petla tworzaca wektory przedzialu ufnosci dla korelacji = 0 (powyzej) oraz dla kazdej korelacji dla konkretnej korelacji dla danego lag\n",
        "    upper_conf_int, lower_conf_int, upper_conf_int_r0, lower_conf_int_r0 = [], [], [], []\n",
        "    for i in range(len(cross_corr)):\n",
        "        conf_int = r_confidence_interval(cross_corr[i], alp, len(a))\n",
        "        upper_conf_int.append(conf_int[1])\n",
        "        lower_conf_int.append(conf_int[0])\n",
        "        upper_conf_int_r0.append(conf_int_r0[1])\n",
        "        lower_conf_int_r0.append(conf_int_r0[0])\n",
        "\n",
        "    # test czy korelacja wzajemna jest istotna (warunek standardowy)\n",
        "    offset_around_upper_conf_int_r0 = cross_corr - upper_conf_int_r0\n",
        "    offset_around_lower_conf_int_r0 = cross_corr - lower_conf_int_r0\n",
        "\n",
        "    if any(offset > 0 for offset in offset_around_upper_conf_int_r0):\n",
        "        flag = [True, False]\n",
        "    elif any(offset < 0 for offset in offset_around_lower_conf_int_r0):\n",
        "        flag = [True, False]\n",
        "    else:\n",
        "        flag = [False, False]\n",
        "    return flag"
      ],
      "metadata": {
        "id": "zeOt1jNjbcNU"
      },
      "execution_count": null,
      "outputs": []
    },
    {
      "cell_type": "markdown",
      "source": [
        "**Funkcja do sprawdzania stacjonarności i zapisywania ich do dictionary**"
      ],
      "metadata": {
        "id": "tjGIsine1S8b"
      }
    },
    {
      "cell_type": "code",
      "source": [
        "def check_stationarity(ts, freq, sig_level):\n",
        "  if ts.isna().any():\n",
        "    return {'no_data': True, 'stationary_1': pd.Series(dtype='float64'),  'stationary_2': pd.Series(dtype='float64'), 'stationary_3': pd.Series(dtype='float64'), 'not_stationary': False}\n",
        "  diff_1 = difference(ts, freq)\n",
        "  diff_2 = difference(diff_1, freq)\n",
        "  diff_3 = difference(diff_2, freq)\n",
        "\n",
        "  p_val_adf = adfuller(diff_1)[1]\n",
        "  p_val_ftest = f_test(diff_1)\n",
        "\n",
        "  p_val_adf_2 = adfuller(diff_2)[1]\n",
        "  p_val_ftest_2 = f_test(diff_2)\n",
        "\n",
        "  p_val_adf_3 = adfuller(diff_3)[1]\n",
        "  p_val_ftest_3 = f_test(diff_3)\n",
        "\n",
        "  cond1 = p_val_adf < sig_level and p_val_ftest > sig_level\n",
        "  cond2 = p_val_adf_2 < sig_level and p_val_ftest_2 > sig_level\n",
        "  cond3 = p_val_adf_3 < sig_level and p_val_ftest_3 > sig_level\n",
        "  # print(ts, p_val_adf, p_val_adf_2, p_val_adf_3, p_val_ftest, p_val_ftest_2, p_val_ftest_3)\n",
        "  res_dict = {'no_data': False, 'stationary_1': pd.Series(dtype='float64'),  'stationary_2': pd.Series(dtype='float64'), 'stationary_3': pd.Series(dtype='float64'), 'not_stationary': False}\n",
        "\n",
        "  if cond1:\n",
        "    res_dict['stationary_1'] = [ts, diff_1]\n",
        "  if cond2:\n",
        "    res_dict['stationary_2'] = [ts, diff_1, diff_2]\n",
        "  if cond3:\n",
        "    res_dict['stationary_3'] = [ts, diff_1, diff_2, diff_3]\n",
        "  if not any([cond1, cond2, cond3]):\n",
        "    res_dict['not_stationary'] = True\n",
        "  return res_dict"
      ],
      "metadata": {
        "id": "PP9ZJ0CbcRvk"
      },
      "execution_count": null,
      "outputs": []
    },
    {
      "cell_type": "markdown",
      "source": [
        "**Funkcja do zwracania takiego poziomu różnicowania, dla którego (1) prediction gauge będzie stacjonarne i (2) najwięcej pozostałych wodowskazów też będzie stacjonarne.**"
      ],
      "metadata": {
        "id": "nbWPk3dACXQ_"
      }
    },
    {
      "cell_type": "code",
      "source": [
        "def get_most_stationary_val(diffs_results, prediction_g, st_nums):\n",
        "  # print(diffs_results)\n",
        "  if diffs_results[prediction_g]['no_data']:\n",
        "    return 'no_data'\n",
        "  if diffs_results[prediction_g]['not_stationary']:\n",
        "    # print('!!!----!!!')\n",
        "    return 'not_stationary'\n",
        "  stationarities_sorted = list(dict(sorted(st_nums.items(), key=lambda x: x[1], reverse=True)).keys())\n",
        "  if len(diffs_results[prediction_g][stationarities_sorted[0]]) > 0:\n",
        "    most_stationary = stationarities_sorted[0]\n",
        "  elif len(diffs_results[prediction_g][stationarities_sorted[1]]) > 0:\n",
        "    most_stationary = stationarities_sorted[1]\n",
        "  elif len(diffs_results[prediction_g][stationarities_sorted[2]]) > 0:\n",
        "    most_stationary = stationarities_sorted[2]\n",
        "  return most_stationary"
      ],
      "metadata": {
        "id": "PEz3R2W8_axo"
      },
      "execution_count": null,
      "outputs": []
    },
    {
      "cell_type": "markdown",
      "source": [
        "**Funkcja zwracająca słownik z szeregami czasowymi dla stacji, które są skorelowane z prediction gauge.**"
      ],
      "metadata": {
        "id": "ZF4k33JM1f4e"
      }
    },
    {
      "cell_type": "code",
      "source": [
        "def get_correlated_gauges(prediction_g, gauges, most_stationary, sig_level):\n",
        "  not_correlated_li = []\n",
        "  pred_gauge_ts = gauges[prediction_g][most_stationary][-1].dropna().to_numpy()\n",
        "  for g, v in gauges.items():\n",
        "    if not check_cross_correlations(pred_gauge_ts, v[most_stationary][-1].dropna().to_numpy(), sig_level)[0]:\n",
        "      not_correlated_li.append(g)\n",
        "  return {k: v for k, v in gauges.items() if k not in not_correlated_li}"
      ],
      "metadata": {
        "id": "1xm22Hny4H6T"
      },
      "execution_count": null,
      "outputs": []
    },
    {
      "cell_type": "markdown",
      "source": [
        "**Funkcje  uzupełniające słownik z zapisanymi statystykami corr i st dla stacji w zlewni.**"
      ],
      "metadata": {
        "id": "0H-POr-EjC3q"
      }
    },
    {
      "cell_type": "code",
      "source": [
        "def update_results_dict(res, t, g_in_basin, valid_g):\n",
        "  for g in g_in_basin:\n",
        "    if g in valid_g:\n",
        "      res[t][g] = 1\n",
        "    else:\n",
        "      res[t][g] = 0\n",
        "\n",
        "\n",
        "def update_results_if_no_prognosis(res, t, g_in_basin, txt):\n",
        "  res[t][txt] = 1\n",
        "  for x in g_in_basin:\n",
        "    res[t][x] = 0"
      ],
      "metadata": {
        "id": "XbpfOb87J7Im"
      },
      "execution_count": null,
      "outputs": []
    },
    {
      "cell_type": "markdown",
      "source": [
        "**Sprawdzanie, ile stacji przejdzie przez dwa sita: stacjonarności i kross-korelacji**"
      ],
      "metadata": {
        "id": "j5nXAgYGCqNk"
      }
    },
    {
      "cell_type": "code",
      "source": [
        "def analyse_st_corr(pred_g, data_df, wdw, sig_level, freq, dt1, dt2):\n",
        "  results = {}\n",
        "  gauges_in_basin = basins[pred_g]\n",
        "  for t0 in data_df.loc[dt1:dt2].index:\n",
        "    diffs_dict = {}\n",
        "    results[t0] = {'no_data': 0, 'not_stationary': 0}\n",
        "    for g in gauges_in_basin:\n",
        "      data_cut = get_gauge_data_cut(data_df, str(g), t0, wdw)\n",
        "      diffs_dict[g] = check_stationarity(data_cut, freq, sig_level)\n",
        "      # print(g, diffs_dict[g]['not_stationary'])\n",
        "    st_summary = {'stationary_1': 0, 'stationary_2': 0, 'stationary_3':0}\n",
        "    for g in gauges_in_basin:\n",
        "      if len(diffs_dict[g]['stationary_1']) > 0:\n",
        "        st_summary['stationary_1'] += 1\n",
        "      if len(diffs_dict[g]['stationary_2']) > 0:\n",
        "        st_summary['stationary_2'] += 1\n",
        "      if len(diffs_dict[g]['stationary_3']) > 0:\n",
        "        st_summary['stationary_3'] += 1\n",
        "\n",
        "    most_stationary_val = get_most_stationary_val(diffs_dict, pred_g, st_summary)\n",
        "    if most_stationary_val in ['no_data', 'not_stationary']:\n",
        "      update_results_if_no_prognosis(results, t0, gauges_in_basin, most_stationary_val)\n",
        "      continue\n",
        "    stationary_basin_ts = {k: v for k, v in diffs_dict.items() if len(v[most_stationary_val]) > 0}\n",
        "    valid_gauges = get_correlated_gauges(pred_g, stationary_basin_ts, most_stationary_val, sig_level)\n",
        "    update_results_dict(results, t0, gauges_in_basin, valid_gauges.keys())\n",
        "    # print(t0)\n",
        "    if t0.day == 1:\n",
        "      print(t0)\n",
        "      df = pd.DataFrame.from_dict(results, orient='index')\n",
        "      df.to_csv(f'st_corr_analysis_gauge{pred_g}_{dt1}_{dt2}.csv', sep=';')\n",
        "  df = pd.DataFrame.from_dict(results, orient='index')\n",
        "  df.to_csv(f'st_corr_analysis_gauge{pred_g}_{dt1}_{dt2}.csv', sep=';')"
      ],
      "metadata": {
        "id": "FxgMvX96-f35"
      },
      "execution_count": null,
      "outputs": []
    },
    {
      "cell_type": "code",
      "source": [
        "analyse_st_corr(1, imgw_df, window, sig_lvl, typical_freq, '2016-01-02', '2016-01-04')"
      ],
      "metadata": {
        "id": "aKCsJMsBa51Q",
        "outputId": "a2c77bf8-b4d4-4e57-b4b6-4f49c24d5a27",
        "colab": {
          "base_uri": "https://localhost:8080/"
        }
      },
      "execution_count": null,
      "outputs": [
        {
          "output_type": "stream",
          "name": "stderr",
          "text": [
            "<ipython-input-80-a746e033d377>:9: RuntimeWarning: divide by zero encountered in double_scalars\n",
            "  return math.log((1 + r) / (1 - r)) / 2.0\n",
            "<ipython-input-80-a746e033d377>:9: RuntimeWarning: divide by zero encountered in double_scalars\n",
            "  return math.log((1 + r) / (1 - r)) / 2.0\n",
            "<ipython-input-80-a746e033d377>:9: RuntimeWarning: divide by zero encountered in double_scalars\n",
            "  return math.log((1 + r) / (1 - r)) / 2.0\n",
            "<ipython-input-80-a746e033d377>:9: RuntimeWarning: divide by zero encountered in double_scalars\n",
            "  return math.log((1 + r) / (1 - r)) / 2.0\n",
            "<ipython-input-80-a746e033d377>:9: RuntimeWarning: divide by zero encountered in double_scalars\n",
            "  return math.log((1 + r) / (1 - r)) / 2.0\n",
            "<ipython-input-80-a746e033d377>:9: RuntimeWarning: divide by zero encountered in double_scalars\n",
            "  return math.log((1 + r) / (1 - r)) / 2.0\n",
            "<ipython-input-80-a746e033d377>:9: RuntimeWarning: divide by zero encountered in double_scalars\n",
            "  return math.log((1 + r) / (1 - r)) / 2.0\n",
            "<ipython-input-80-a746e033d377>:9: RuntimeWarning: divide by zero encountered in double_scalars\n",
            "  return math.log((1 + r) / (1 - r)) / 2.0\n",
            "<ipython-input-80-a746e033d377>:9: RuntimeWarning: divide by zero encountered in double_scalars\n",
            "  return math.log((1 + r) / (1 - r)) / 2.0\n",
            "<ipython-input-80-a746e033d377>:9: RuntimeWarning: divide by zero encountered in double_scalars\n",
            "  return math.log((1 + r) / (1 - r)) / 2.0\n",
            "<ipython-input-80-a746e033d377>:9: RuntimeWarning: divide by zero encountered in double_scalars\n",
            "  return math.log((1 + r) / (1 - r)) / 2.0\n",
            "<ipython-input-80-a746e033d377>:9: RuntimeWarning: divide by zero encountered in double_scalars\n",
            "  return math.log((1 + r) / (1 - r)) / 2.0\n",
            "<ipython-input-80-a746e033d377>:9: RuntimeWarning: divide by zero encountered in double_scalars\n",
            "  return math.log((1 + r) / (1 - r)) / 2.0\n",
            "<ipython-input-80-a746e033d377>:9: RuntimeWarning: divide by zero encountered in double_scalars\n",
            "  return math.log((1 + r) / (1 - r)) / 2.0\n",
            "<ipython-input-80-a746e033d377>:9: RuntimeWarning: divide by zero encountered in double_scalars\n",
            "  return math.log((1 + r) / (1 - r)) / 2.0\n",
            "<ipython-input-80-a746e033d377>:9: RuntimeWarning: divide by zero encountered in double_scalars\n",
            "  return math.log((1 + r) / (1 - r)) / 2.0\n",
            "<ipython-input-80-a746e033d377>:9: RuntimeWarning: divide by zero encountered in double_scalars\n",
            "  return math.log((1 + r) / (1 - r)) / 2.0\n",
            "<ipython-input-80-a746e033d377>:9: RuntimeWarning: divide by zero encountered in double_scalars\n",
            "  return math.log((1 + r) / (1 - r)) / 2.0\n",
            "<ipython-input-80-a746e033d377>:9: RuntimeWarning: divide by zero encountered in double_scalars\n",
            "  return math.log((1 + r) / (1 - r)) / 2.0\n",
            "<ipython-input-80-a746e033d377>:9: RuntimeWarning: divide by zero encountered in double_scalars\n",
            "  return math.log((1 + r) / (1 - r)) / 2.0\n",
            "<ipython-input-80-a746e033d377>:9: RuntimeWarning: divide by zero encountered in double_scalars\n",
            "  return math.log((1 + r) / (1 - r)) / 2.0\n",
            "<ipython-input-80-a746e033d377>:9: RuntimeWarning: divide by zero encountered in double_scalars\n",
            "  return math.log((1 + r) / (1 - r)) / 2.0\n",
            "<ipython-input-80-a746e033d377>:9: RuntimeWarning: divide by zero encountered in double_scalars\n",
            "  return math.log((1 + r) / (1 - r)) / 2.0\n",
            "<ipython-input-80-a746e033d377>:9: RuntimeWarning: divide by zero encountered in double_scalars\n",
            "  return math.log((1 + r) / (1 - r)) / 2.0\n"
          ]
        }
      ]
    },
    {
      "cell_type": "markdown",
      "source": [
        "\n",
        "\n",
        "---\n",
        "---\n",
        "---\n",
        "\n",
        "**W tym skrypcie generuję wykres słupkowy, w którym pokazuję wyniki analizy stacjonarności.**\n"
      ],
      "metadata": {
        "id": "4ljTPV7H9HS6"
      }
    },
    {
      "cell_type": "code",
      "source": [
        "df = pd.DataFrame.from_dict(res_dict, orient='index')\n",
        "# df = pd.read_csv(home + 'stationarity_2016-01-01x2017-01-01_120_05.csv', sep=';')\n",
        "fig, ax = plt.subplots(figsize=(6, 8))\n",
        "labels = df.index.to_list()\n",
        "n = len(labels)\n",
        "r = np.arange(n)\n",
        "width = 0.18\n",
        "ax.barh(r - 1.5*width, df['not_stationary'].to_list(), height=width, label='not stationary')\n",
        "ax.barh(r - .5*width, df['stationary_1'].to_list(), height=width, label='stationary 1')\n",
        "ax.barh(r + .5*width, df['stationary_2'].to_list(), height=width, label='stationary 2')\n",
        "ax.barh(r + 1.5*width, df['stationary_3'].to_list(), height=width, label='stationary 3')\n",
        "\n",
        "ax.set_yticks(r)\n",
        "ax.set_yticklabels(labels)\n",
        "# ax.set_xlim(-1,n+1)\n",
        "ax.set_xlabel('Occurrences')\n",
        "ax.set_ylabel('Gauge')\n",
        "ax.legend(ncol=2)\n",
        "fig.tight_layout()\n",
        "plt.show()"
      ],
      "metadata": {
        "id": "gg_vLJj2FXQ9",
        "outputId": "e1116d3b-a120-48f5-9611-66e8ecdcee28",
        "colab": {
          "base_uri": "https://localhost:8080/",
          "height": 807
        }
      },
      "execution_count": null,
      "outputs": [
        {
          "output_type": "display_data",
          "data": {
            "text/plain": [
              "<Figure size 600x800 with 1 Axes>"
            ],
            "image/png": "[encoded data removed]"
          },
          "metadata": {}
        }
      ]
    },
    {
      "cell_type": "code",
      "source": [
        "no_st = df['not_stationary'].mean()\n",
        "st1 = df['stationary_1'].mean()\n",
        "st2 = df['stationary_2'].mean()\n",
        "st3 = df['stationary_3'].mean()\n",
        "print(no_st, st1, st2, st3)"
      ],
      "metadata": {
        "id": "ev2hnmD-SUt7",
        "outputId": "60961e6e-6ea4-4755-f77f-5ce9e8eb744b",
        "colab": {
          "base_uri": "https://localhost:8080/"
        }
      },
      "execution_count": null,
      "outputs": [
        {
          "output_type": "stream",
          "name": "stdout",
          "text": [
            "3531.75 2271.5 3789.964285714286 3873.6428571428573\n"
          ]
        }
      ]
    },
    {
      "cell_type": "code",
      "source": [],
      "metadata": {
        "id": "qBUqNY3ARCxt"
      },
      "execution_count": null,
      "outputs": []
    }
  ]
}